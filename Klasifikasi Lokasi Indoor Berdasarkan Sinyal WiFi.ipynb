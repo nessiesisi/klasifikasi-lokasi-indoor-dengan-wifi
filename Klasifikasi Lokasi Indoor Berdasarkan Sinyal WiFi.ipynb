{
 "cells": [
  {
   "cell_type": "markdown",
   "metadata": {},
   "source": [
    "## Klasifikasi Lokasi Indoor Berdasarkan Sinyal WiFi"
   ]
  },
  {
   "cell_type": "markdown",
   "metadata": {},
   "source": [
    "### Kelompok 9 :\n",
    "### - Yasinta Hutri Salamanang (18123001)\n",
    "### - Ashley Fadiya Hayaah (18123012)\n",
    "### - Naisya Sizzarra Rarasdewi (18123048)\n",
    "### - Ikbar Alif Sofiyan (18123050)\n"
   ]
  },
  {
   "cell_type": "markdown",
   "metadata": {},
   "source": [
    "### Import libraries"
   ]
  },
  {
   "cell_type": "code",
   "execution_count": null,
   "metadata": {},
   "outputs": [],
   "source": [
    "# import libraries\n",
    "import numpy as np\n",
    "import pandas as pd\n",
    "import scipy\n",
    "import matplotlib.pyplot as plt\n",
    "from math import sqrt\n",
    "import seaborn as sns\n",
    "sns.set(style=\"whitegrid\")\n",
    "\n",
    "from pprint import pprint\n",
    "\n",
    "# helpers\n",
    "%matplotlib inline\n",
    "from sklearn import preprocessing\n",
    "from sklearn.preprocessing import LabelEncoder\n",
    "\n",
    "# estimators\n",
    "from sklearn import tree\n",
    "from sklearn.ensemble import RandomForestClassifier, GradientBoostingClassifier\n",
    "from sklearn.svm import SVC\n",
    "from sklearn.tree import DecisionTreeClassifier\n",
    "from sklearn.neighbors import KNeighborsClassifier\n",
    "\n",
    "# model metrics\n",
    "from sklearn.metrics import accuracy_score, precision_score, recall_score, f1_score, classification_report, confusion_matrix\n",
    "from sklearn.model_selection import train_test_split, cross_val_score, GridSearchCV"
   ]
  },
  {
   "cell_type": "markdown",
   "metadata": {},
   "source": [
    "### Read dataset using Pandas"
   ]
  },
  {
   "cell_type": "code",
   "execution_count": null,
   "metadata": {},
   "outputs": [],
   "source": [
    "wifi_read = pd.read_csv('trainingData.csv')\n",
    "print(\"Shape of dataset:\", wifi_read.shape)\n",
    "wifi_read.head()"
   ]
  },
  {
   "cell_type": "code",
   "execution_count": null,
   "metadata": {},
   "outputs": [],
   "source": [
    "wifi_read.tail()"
   ]
  },
  {
   "cell_type": "markdown",
   "metadata": {},
   "source": [
    "## Evaluate data"
   ]
  },
  {
   "cell_type": "code",
   "execution_count": null,
   "metadata": {},
   "outputs": [],
   "source": [
    "wifi_read.info()\n",
    "missing_values = wifi_read.isnull().sum().sum()\n",
    "print(\"Total missing values:\", missing_values)"
   ]
  },
  {
   "cell_type": "code",
   "execution_count": null,
   "metadata": {},
   "outputs": [],
   "source": [
    "#descriptive stats\n",
    "wifi_read.describe().T"
   ]
  },
  {
   "cell_type": "code",
   "execution_count": null,
   "metadata": {},
   "outputs": [],
   "source": [
    "fig, axes = plt.subplots(2, 2, figsize=(14, 10))\n",
    "\n",
    "sns.histplot(wifi_read['LATITUDE'], bins=50, ax=axes[0, 0], color='skyblue')\n",
    "axes[0, 0].set_title('Latitude Distribution')\n",
    "\n",
    "sns.histplot(wifi_read['LONGITUDE'], bins=50, ax=axes[0, 1], color='salmon')\n",
    "axes[0, 1].set_title('Longitude Distribution')\n",
    "\n",
    "sns.countplot(x='FLOOR', data=wifi_read, ax=axes[1, 0])\n",
    "axes[1, 0].set_title('Floor Distribution')\n",
    "\n",
    "sns.countplot(x='BUILDINGID', data=wifi_read, ax=axes[1, 1])\n",
    "axes[1, 1].set_title('BuildingID Distribution')\n",
    "\n",
    "plt.tight_layout()\n",
    "plt.show()"
   ]
  },
  {
   "cell_type": "markdown",
   "metadata": {},
   "source": [
    "### Feature Engineering"
   ]
  },
  {
   "cell_type": "code",
   "execution_count": null,
   "metadata": {},
   "outputs": [],
   "source": [
    "# Pisahkan kolom WAP (520 fitur pertama)\n",
    "wap_columns = [col for col in wifi_read.columns if \"WAP\" in col]\n",
    "X = wifi_read[wap_columns]\n",
    "\n",
    "# Target untuk tugas lokasi\n",
    "y_building = wifi_read['BUILDINGID']\n",
    "y_floor = wifi_read['FLOOR']\n",
    "y_lat = wifi_read['LATITUDE']\n",
    "y_long = wifi_read['LONGITUDE']"
   ]
  },
  {
   "cell_type": "code",
   "execution_count": null,
   "metadata": {},
   "outputs": [],
   "source": [
    "# membersihkan data\n",
    "X_clean = X.replace(100, -105)\n",
    "\n",
    "# Hapus baris yang tidak mendeteksi satu pun sinyal\n",
    "rows_with_signal = (X_clean > -105).sum(axis=1) > 0\n",
    "X_clean = X_clean[rows_with_signal]\n",
    "df_clean = wifi_read[rows_with_signal].reset_index(drop=True)\n",
    "X_clean = X_clean.reset_index(drop=True)\n",
    "\n",
    "print(\"Setelah dibersihkan, shape:\", X_clean.shape)"
   ]
  }
 ],
 "metadata": {
  "kernelspec": {
   "display_name": "Python 3",
   "language": "python",
   "name": "python3"
  },
  "language_info": {
   "codemirror_mode": {
    "name": "ipython",
    "version": 3
   },
   "file_extension": ".py",
   "mimetype": "text/x-python",
   "name": "python",
   "nbconvert_exporter": "python",
   "pygments_lexer": "ipython3",
   "version": "3.11.4"
  }
 },
 "nbformat": 4,
 "nbformat_minor": 4
}
